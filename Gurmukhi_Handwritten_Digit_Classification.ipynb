{
  "nbformat": 4,
  "nbformat_minor": 0,
  "metadata": {
    "colab": {
      "provenance": [],
      "toc_visible": true
    },
    "kernelspec": {
      "name": "python3",
      "display_name": "Python 3"
    },
    "language_info": {
      "name": "python"
    }
  },
  "cells": [
    {
      "cell_type": "code",
      "source": [
        "import pandas as pd\n",
        "import numpy as np\n",
        "import cv2\n",
        "import csv\n",
        "import glob\n",
        "import matplotlib.pyplot as plt"
      ],
      "metadata": {
        "id": "hDaMnw8fhfXf"
      },
      "execution_count": null,
      "outputs": []
    },
    {
      "cell_type": "markdown",
      "source": [
        "#Generate training dataset from images, and storing the values in training_dataset.csv"
      ],
      "metadata": {
        "id": "8ehalnaZ39RN"
      }
    },
    {
      "cell_type": "code",
      "execution_count": null,
      "metadata": {
        "id": "6GGeu18vN7JX"
      },
      "outputs": [],
      "source": [
        "header  =[\"label\"]\n",
        "for i in range(0,784):\n",
        "   header.append(\"pixel\"+str(i))\n",
        "\n",
        "with open('training_dataset.csv', 'a') as f:\n",
        "   writer = csv.writer(f)\n",
        "   writer.writerow(header)\n",
        "   \n",
        "for label in range(10):\n",
        "   dirList = glob.glob(\"/content/drive/MyDrive/Assignment/ML Assignment/train/\"+str(label)+\"/*.bmp\")\n",
        "   \n",
        "   for img_path in dirList:\n",
        "       im= cv2.imread(img_path)\n",
        "       im_gray = cv2.cvtColor(im,cv2.COLOR_BGR2GRAY)\n",
        "       im_gray = cv2.GaussianBlur(im_gray,(15,15), 0)\n",
        "       roi= cv2.resize(im_gray,(28,28), interpolation=cv2.INTER_AREA)\n",
        "       \n",
        "       data=[]\n",
        "       data.append(label)\n",
        "       rows, cols = roi.shape\n",
        "       \n",
        "       ## Add pixel one by one into data array\n",
        "       for i in range(rows):\n",
        "           for j in range(cols):\n",
        "               k =roi[i,j]\n",
        "               data.append(k)\n",
        "       with open('training_dataset.csv', 'a') as f:\n",
        "           writer = csv.writer(f)\n",
        "           writer.writerow(data)\n",
        " \n"
      ]
    },
    {
      "cell_type": "markdown",
      "source": [
        "#Generate test dataset from images, and storing the values in training_dataset.csv"
      ],
      "metadata": {
        "id": "qjLYJd3o4FFi"
      }
    },
    {
      "cell_type": "code",
      "source": [
        "\n",
        "import cv2\n",
        "import csv\n",
        "import glob\n",
        " \n",
        "header  =[\"label\"]\n",
        "for i in range(0,784):\n",
        "   header.append(\"pixel\"+str(i))\n",
        "\n",
        "with open('testing_dataset.csv', 'a') as f:\n",
        "   writer = csv.writer(f)\n",
        "   writer.writerow(header)\n",
        "   \n",
        "for label in range(10):\n",
        "   dirList = glob.glob(\"/content/drive/MyDrive/Assignment/ML Assignment/val/\"+str(label)+\"/*.tiff\")\n",
        "   \n",
        "   for img_path in dirList:\n",
        "       im= cv2.imread(img_path)\n",
        "       im_gray = cv2.cvtColor(im,cv2.COLOR_BGR2GRAY)\n",
        "       im_gray = cv2.GaussianBlur(im_gray,(15,15), 0)\n",
        "       roi= cv2.resize(im_gray,(28,28), interpolation=cv2.INTER_AREA)\n",
        "       \n",
        "       data=[]\n",
        "       data.append(label)\n",
        "       rows, cols = roi.shape\n",
        "       \n",
        "       ## Add pixel one by one into data array\n",
        "       for i in range(rows):\n",
        "           for j in range(cols):\n",
        "               k =roi[i,j]\n",
        "               data.append(k)\n",
        "       with open('testing_dataset.csv', 'a') as f:\n",
        "           writer = csv.writer(f)\n",
        "           writer.writerow(data)"
      ],
      "metadata": {
        "id": "QTpQOxNOkpEU"
      },
      "execution_count": null,
      "outputs": []
    },
    {
      "cell_type": "code",
      "source": [
        "#load the dataset\n",
        "training_data  =pd.read_csv('training_dataset.csv')\n",
        "training_data.sample(5)"
      ],
      "metadata": {
        "colab": {
          "base_uri": "https://localhost:8080/",
          "height": 299
        },
        "id": "ohSUoTAJgt-S",
        "outputId": "28806046-3ea6-458c-9f39-047841cc8320"
      },
      "execution_count": null,
      "outputs": [
        {
          "output_type": "execute_result",
          "data": {
            "text/plain": [
              "     label  pixel0  pixel1  pixel2  pixel3  pixel4  pixel5  pixel6  pixel7  \\\n",
              "158      1     180     173     158     138     117      98      84      77   \n",
              "137      1      98      92      81      67      55      49      48      53   \n",
              "252      2     148     144     135     125     118     114     109     104   \n",
              "733      7     243     242     236     229     220     210     198     183   \n",
              "541      5      92      90      85      83      85      91      99     114   \n",
              "\n",
              "     pixel8  ...  pixel774  pixel775  pixel776  pixel777  pixel778  pixel779  \\\n",
              "158      75  ...        82        87        95       108       123       142   \n",
              "137      61  ...       219       236       246       252       254       255   \n",
              "252      99  ...       230       222       208       189       168       145   \n",
              "733     171  ...       230       241       248       252       254       255   \n",
              "541     134  ...       239       222       196       162       135       124   \n",
              "\n",
              "     pixel780  pixel781  pixel782  pixel783  \n",
              "158       161       179       192       197  \n",
              "137       255       255       255       255  \n",
              "252       122       103        89        83  \n",
              "733       255       255       255       255  \n",
              "541       129       148       169       179  \n",
              "\n",
              "[5 rows x 785 columns]"
            ],
            "text/html": [
              "\n",
              "  <div id=\"df-38a5befc-65cd-4dd0-ba11-52d5541d9b89\">\n",
              "    <div class=\"colab-df-container\">\n",
              "      <div>\n",
              "<style scoped>\n",
              "    .dataframe tbody tr th:only-of-type {\n",
              "        vertical-align: middle;\n",
              "    }\n",
              "\n",
              "    .dataframe tbody tr th {\n",
              "        vertical-align: top;\n",
              "    }\n",
              "\n",
              "    .dataframe thead th {\n",
              "        text-align: right;\n",
              "    }\n",
              "</style>\n",
              "<table border=\"1\" class=\"dataframe\">\n",
              "  <thead>\n",
              "    <tr style=\"text-align: right;\">\n",
              "      <th></th>\n",
              "      <th>label</th>\n",
              "      <th>pixel0</th>\n",
              "      <th>pixel1</th>\n",
              "      <th>pixel2</th>\n",
              "      <th>pixel3</th>\n",
              "      <th>pixel4</th>\n",
              "      <th>pixel5</th>\n",
              "      <th>pixel6</th>\n",
              "      <th>pixel7</th>\n",
              "      <th>pixel8</th>\n",
              "      <th>...</th>\n",
              "      <th>pixel774</th>\n",
              "      <th>pixel775</th>\n",
              "      <th>pixel776</th>\n",
              "      <th>pixel777</th>\n",
              "      <th>pixel778</th>\n",
              "      <th>pixel779</th>\n",
              "      <th>pixel780</th>\n",
              "      <th>pixel781</th>\n",
              "      <th>pixel782</th>\n",
              "      <th>pixel783</th>\n",
              "    </tr>\n",
              "  </thead>\n",
              "  <tbody>\n",
              "    <tr>\n",
              "      <th>158</th>\n",
              "      <td>1</td>\n",
              "      <td>180</td>\n",
              "      <td>173</td>\n",
              "      <td>158</td>\n",
              "      <td>138</td>\n",
              "      <td>117</td>\n",
              "      <td>98</td>\n",
              "      <td>84</td>\n",
              "      <td>77</td>\n",
              "      <td>75</td>\n",
              "      <td>...</td>\n",
              "      <td>82</td>\n",
              "      <td>87</td>\n",
              "      <td>95</td>\n",
              "      <td>108</td>\n",
              "      <td>123</td>\n",
              "      <td>142</td>\n",
              "      <td>161</td>\n",
              "      <td>179</td>\n",
              "      <td>192</td>\n",
              "      <td>197</td>\n",
              "    </tr>\n",
              "    <tr>\n",
              "      <th>137</th>\n",
              "      <td>1</td>\n",
              "      <td>98</td>\n",
              "      <td>92</td>\n",
              "      <td>81</td>\n",
              "      <td>67</td>\n",
              "      <td>55</td>\n",
              "      <td>49</td>\n",
              "      <td>48</td>\n",
              "      <td>53</td>\n",
              "      <td>61</td>\n",
              "      <td>...</td>\n",
              "      <td>219</td>\n",
              "      <td>236</td>\n",
              "      <td>246</td>\n",
              "      <td>252</td>\n",
              "      <td>254</td>\n",
              "      <td>255</td>\n",
              "      <td>255</td>\n",
              "      <td>255</td>\n",
              "      <td>255</td>\n",
              "      <td>255</td>\n",
              "    </tr>\n",
              "    <tr>\n",
              "      <th>252</th>\n",
              "      <td>2</td>\n",
              "      <td>148</td>\n",
              "      <td>144</td>\n",
              "      <td>135</td>\n",
              "      <td>125</td>\n",
              "      <td>118</td>\n",
              "      <td>114</td>\n",
              "      <td>109</td>\n",
              "      <td>104</td>\n",
              "      <td>99</td>\n",
              "      <td>...</td>\n",
              "      <td>230</td>\n",
              "      <td>222</td>\n",
              "      <td>208</td>\n",
              "      <td>189</td>\n",
              "      <td>168</td>\n",
              "      <td>145</td>\n",
              "      <td>122</td>\n",
              "      <td>103</td>\n",
              "      <td>89</td>\n",
              "      <td>83</td>\n",
              "    </tr>\n",
              "    <tr>\n",
              "      <th>733</th>\n",
              "      <td>7</td>\n",
              "      <td>243</td>\n",
              "      <td>242</td>\n",
              "      <td>236</td>\n",
              "      <td>229</td>\n",
              "      <td>220</td>\n",
              "      <td>210</td>\n",
              "      <td>198</td>\n",
              "      <td>183</td>\n",
              "      <td>171</td>\n",
              "      <td>...</td>\n",
              "      <td>230</td>\n",
              "      <td>241</td>\n",
              "      <td>248</td>\n",
              "      <td>252</td>\n",
              "      <td>254</td>\n",
              "      <td>255</td>\n",
              "      <td>255</td>\n",
              "      <td>255</td>\n",
              "      <td>255</td>\n",
              "      <td>255</td>\n",
              "    </tr>\n",
              "    <tr>\n",
              "      <th>541</th>\n",
              "      <td>5</td>\n",
              "      <td>92</td>\n",
              "      <td>90</td>\n",
              "      <td>85</td>\n",
              "      <td>83</td>\n",
              "      <td>85</td>\n",
              "      <td>91</td>\n",
              "      <td>99</td>\n",
              "      <td>114</td>\n",
              "      <td>134</td>\n",
              "      <td>...</td>\n",
              "      <td>239</td>\n",
              "      <td>222</td>\n",
              "      <td>196</td>\n",
              "      <td>162</td>\n",
              "      <td>135</td>\n",
              "      <td>124</td>\n",
              "      <td>129</td>\n",
              "      <td>148</td>\n",
              "      <td>169</td>\n",
              "      <td>179</td>\n",
              "    </tr>\n",
              "  </tbody>\n",
              "</table>\n",
              "<p>5 rows × 785 columns</p>\n",
              "</div>\n",
              "      <button class=\"colab-df-convert\" onclick=\"convertToInteractive('df-38a5befc-65cd-4dd0-ba11-52d5541d9b89')\"\n",
              "              title=\"Convert this dataframe to an interactive table.\"\n",
              "              style=\"display:none;\">\n",
              "        \n",
              "  <svg xmlns=\"http://www.w3.org/2000/svg\" height=\"24px\"viewBox=\"0 0 24 24\"\n",
              "       width=\"24px\">\n",
              "    <path d=\"M0 0h24v24H0V0z\" fill=\"none\"/>\n",
              "    <path d=\"M18.56 5.44l.94 2.06.94-2.06 2.06-.94-2.06-.94-.94-2.06-.94 2.06-2.06.94zm-11 1L8.5 8.5l.94-2.06 2.06-.94-2.06-.94L8.5 2.5l-.94 2.06-2.06.94zm10 10l.94 2.06.94-2.06 2.06-.94-2.06-.94-.94-2.06-.94 2.06-2.06.94z\"/><path d=\"M17.41 7.96l-1.37-1.37c-.4-.4-.92-.59-1.43-.59-.52 0-1.04.2-1.43.59L10.3 9.45l-7.72 7.72c-.78.78-.78 2.05 0 2.83L4 21.41c.39.39.9.59 1.41.59.51 0 1.02-.2 1.41-.59l7.78-7.78 2.81-2.81c.8-.78.8-2.07 0-2.86zM5.41 20L4 18.59l7.72-7.72 1.47 1.35L5.41 20z\"/>\n",
              "  </svg>\n",
              "      </button>\n",
              "      \n",
              "  <style>\n",
              "    .colab-df-container {\n",
              "      display:flex;\n",
              "      flex-wrap:wrap;\n",
              "      gap: 12px;\n",
              "    }\n",
              "\n",
              "    .colab-df-convert {\n",
              "      background-color: #E8F0FE;\n",
              "      border: none;\n",
              "      border-radius: 50%;\n",
              "      cursor: pointer;\n",
              "      display: none;\n",
              "      fill: #1967D2;\n",
              "      height: 32px;\n",
              "      padding: 0 0 0 0;\n",
              "      width: 32px;\n",
              "    }\n",
              "\n",
              "    .colab-df-convert:hover {\n",
              "      background-color: #E2EBFA;\n",
              "      box-shadow: 0px 1px 2px rgba(60, 64, 67, 0.3), 0px 1px 3px 1px rgba(60, 64, 67, 0.15);\n",
              "      fill: #174EA6;\n",
              "    }\n",
              "\n",
              "    [theme=dark] .colab-df-convert {\n",
              "      background-color: #3B4455;\n",
              "      fill: #D2E3FC;\n",
              "    }\n",
              "\n",
              "    [theme=dark] .colab-df-convert:hover {\n",
              "      background-color: #434B5C;\n",
              "      box-shadow: 0px 1px 3px 1px rgba(0, 0, 0, 0.15);\n",
              "      filter: drop-shadow(0px 1px 2px rgba(0, 0, 0, 0.3));\n",
              "      fill: #FFFFFF;\n",
              "    }\n",
              "  </style>\n",
              "\n",
              "      <script>\n",
              "        const buttonEl =\n",
              "          document.querySelector('#df-38a5befc-65cd-4dd0-ba11-52d5541d9b89 button.colab-df-convert');\n",
              "        buttonEl.style.display =\n",
              "          google.colab.kernel.accessAllowed ? 'block' : 'none';\n",
              "\n",
              "        async function convertToInteractive(key) {\n",
              "          const element = document.querySelector('#df-38a5befc-65cd-4dd0-ba11-52d5541d9b89');\n",
              "          const dataTable =\n",
              "            await google.colab.kernel.invokeFunction('convertToInteractive',\n",
              "                                                     [key], {});\n",
              "          if (!dataTable) return;\n",
              "\n",
              "          const docLinkHtml = 'Like what you see? Visit the ' +\n",
              "            '<a target=\"_blank\" href=https://colab.research.google.com/notebooks/data_table.ipynb>data table notebook</a>'\n",
              "            + ' to learn more about interactive tables.';\n",
              "          element.innerHTML = '';\n",
              "          dataTable['output_type'] = 'display_data';\n",
              "          await google.colab.output.renderOutput(dataTable, element);\n",
              "          const docLink = document.createElement('div');\n",
              "          docLink.innerHTML = docLinkHtml;\n",
              "          element.appendChild(docLink);\n",
              "        }\n",
              "      </script>\n",
              "    </div>\n",
              "  </div>\n",
              "  "
            ]
          },
          "metadata": {},
          "execution_count": 97
        }
      ]
    },
    {
      "cell_type": "code",
      "source": [
        "X_Train = training_data.drop([\"label\"],axis=1).values\n",
        "Y_Train = training_data[\"label\"].values"
      ],
      "metadata": {
        "id": "Tpd31C5XigaZ"
      },
      "execution_count": null,
      "outputs": []
    },
    {
      "cell_type": "code",
      "source": [
        "X_Train"
      ],
      "metadata": {
        "colab": {
          "base_uri": "https://localhost:8080/"
        },
        "id": "Zvj2va1PrjRU",
        "outputId": "a6c8eb1f-5d43-4594-8aa6-6d7559a9a419"
      },
      "execution_count": null,
      "outputs": [
        {
          "output_type": "execute_result",
          "data": {
            "text/plain": [
              "array([[248, 244, 234, ..., 234, 242, 246],\n",
              "       [242, 237, 225, ..., 180, 194, 202],\n",
              "       [248, 244, 238, ..., 236, 243, 246],\n",
              "       ...,\n",
              "       [255, 255, 255, ...,  83,  82,  83],\n",
              "       [255, 255, 255, ...,  75,  73,  73],\n",
              "       [242, 243, 245, ..., 168, 187, 196]])"
            ]
          },
          "metadata": {},
          "execution_count": 99
        }
      ]
    },
    {
      "cell_type": "code",
      "source": [
        "testing_data  =pd.read_csv('testing_dataset.csv')\n",
        "testing_data.sample(5)"
      ],
      "metadata": {
        "colab": {
          "base_uri": "https://localhost:8080/",
          "height": 299
        },
        "id": "vwns3ZOEmnnX",
        "outputId": "4d3f868c-3d8b-489e-f84b-5af272427e7c"
      },
      "execution_count": null,
      "outputs": [
        {
          "output_type": "execute_result",
          "data": {
            "text/plain": [
              "     label  pixel0  pixel1  pixel2  pixel3  pixel4  pixel5  pixel6  pixel7  \\\n",
              "56       3     162     161     158     157     157     160     164     168   \n",
              "71       4     176     169     154     140     136     145     165     194   \n",
              "144      8      56      62      77     101     134     170     202     229   \n",
              "35       2      86      89      98     109     121     131     138     143   \n",
              "26       1     133     127     116     103      94      88      87      87   \n",
              "\n",
              "     pixel8  ...  pixel774  pixel775  pixel776  pixel777  pixel778  pixel779  \\\n",
              "56      170  ...       248       240       228       208       187       166   \n",
              "71      218  ...       235       245       250       253       254       255   \n",
              "144     243  ...        85        85        85        85        85        85   \n",
              "35      144  ...       253       250       243       227       205       176   \n",
              "26       86  ...       129       141       156       174       190       205   \n",
              "\n",
              "     pixel780  pixel781  pixel782  pixel783  \n",
              "56        149       139       134       134  \n",
              "71        255       255       255       255  \n",
              "144        85        85        85        85  \n",
              "35        145       117        97        89  \n",
              "26        217       226       232       234  \n",
              "\n",
              "[5 rows x 785 columns]"
            ],
            "text/html": [
              "\n",
              "  <div id=\"df-115dcda1-c3c0-49a4-98a9-d40e47813009\">\n",
              "    <div class=\"colab-df-container\">\n",
              "      <div>\n",
              "<style scoped>\n",
              "    .dataframe tbody tr th:only-of-type {\n",
              "        vertical-align: middle;\n",
              "    }\n",
              "\n",
              "    .dataframe tbody tr th {\n",
              "        vertical-align: top;\n",
              "    }\n",
              "\n",
              "    .dataframe thead th {\n",
              "        text-align: right;\n",
              "    }\n",
              "</style>\n",
              "<table border=\"1\" class=\"dataframe\">\n",
              "  <thead>\n",
              "    <tr style=\"text-align: right;\">\n",
              "      <th></th>\n",
              "      <th>label</th>\n",
              "      <th>pixel0</th>\n",
              "      <th>pixel1</th>\n",
              "      <th>pixel2</th>\n",
              "      <th>pixel3</th>\n",
              "      <th>pixel4</th>\n",
              "      <th>pixel5</th>\n",
              "      <th>pixel6</th>\n",
              "      <th>pixel7</th>\n",
              "      <th>pixel8</th>\n",
              "      <th>...</th>\n",
              "      <th>pixel774</th>\n",
              "      <th>pixel775</th>\n",
              "      <th>pixel776</th>\n",
              "      <th>pixel777</th>\n",
              "      <th>pixel778</th>\n",
              "      <th>pixel779</th>\n",
              "      <th>pixel780</th>\n",
              "      <th>pixel781</th>\n",
              "      <th>pixel782</th>\n",
              "      <th>pixel783</th>\n",
              "    </tr>\n",
              "  </thead>\n",
              "  <tbody>\n",
              "    <tr>\n",
              "      <th>56</th>\n",
              "      <td>3</td>\n",
              "      <td>162</td>\n",
              "      <td>161</td>\n",
              "      <td>158</td>\n",
              "      <td>157</td>\n",
              "      <td>157</td>\n",
              "      <td>160</td>\n",
              "      <td>164</td>\n",
              "      <td>168</td>\n",
              "      <td>170</td>\n",
              "      <td>...</td>\n",
              "      <td>248</td>\n",
              "      <td>240</td>\n",
              "      <td>228</td>\n",
              "      <td>208</td>\n",
              "      <td>187</td>\n",
              "      <td>166</td>\n",
              "      <td>149</td>\n",
              "      <td>139</td>\n",
              "      <td>134</td>\n",
              "      <td>134</td>\n",
              "    </tr>\n",
              "    <tr>\n",
              "      <th>71</th>\n",
              "      <td>4</td>\n",
              "      <td>176</td>\n",
              "      <td>169</td>\n",
              "      <td>154</td>\n",
              "      <td>140</td>\n",
              "      <td>136</td>\n",
              "      <td>145</td>\n",
              "      <td>165</td>\n",
              "      <td>194</td>\n",
              "      <td>218</td>\n",
              "      <td>...</td>\n",
              "      <td>235</td>\n",
              "      <td>245</td>\n",
              "      <td>250</td>\n",
              "      <td>253</td>\n",
              "      <td>254</td>\n",
              "      <td>255</td>\n",
              "      <td>255</td>\n",
              "      <td>255</td>\n",
              "      <td>255</td>\n",
              "      <td>255</td>\n",
              "    </tr>\n",
              "    <tr>\n",
              "      <th>144</th>\n",
              "      <td>8</td>\n",
              "      <td>56</td>\n",
              "      <td>62</td>\n",
              "      <td>77</td>\n",
              "      <td>101</td>\n",
              "      <td>134</td>\n",
              "      <td>170</td>\n",
              "      <td>202</td>\n",
              "      <td>229</td>\n",
              "      <td>243</td>\n",
              "      <td>...</td>\n",
              "      <td>85</td>\n",
              "      <td>85</td>\n",
              "      <td>85</td>\n",
              "      <td>85</td>\n",
              "      <td>85</td>\n",
              "      <td>85</td>\n",
              "      <td>85</td>\n",
              "      <td>85</td>\n",
              "      <td>85</td>\n",
              "      <td>85</td>\n",
              "    </tr>\n",
              "    <tr>\n",
              "      <th>35</th>\n",
              "      <td>2</td>\n",
              "      <td>86</td>\n",
              "      <td>89</td>\n",
              "      <td>98</td>\n",
              "      <td>109</td>\n",
              "      <td>121</td>\n",
              "      <td>131</td>\n",
              "      <td>138</td>\n",
              "      <td>143</td>\n",
              "      <td>144</td>\n",
              "      <td>...</td>\n",
              "      <td>253</td>\n",
              "      <td>250</td>\n",
              "      <td>243</td>\n",
              "      <td>227</td>\n",
              "      <td>205</td>\n",
              "      <td>176</td>\n",
              "      <td>145</td>\n",
              "      <td>117</td>\n",
              "      <td>97</td>\n",
              "      <td>89</td>\n",
              "    </tr>\n",
              "    <tr>\n",
              "      <th>26</th>\n",
              "      <td>1</td>\n",
              "      <td>133</td>\n",
              "      <td>127</td>\n",
              "      <td>116</td>\n",
              "      <td>103</td>\n",
              "      <td>94</td>\n",
              "      <td>88</td>\n",
              "      <td>87</td>\n",
              "      <td>87</td>\n",
              "      <td>86</td>\n",
              "      <td>...</td>\n",
              "      <td>129</td>\n",
              "      <td>141</td>\n",
              "      <td>156</td>\n",
              "      <td>174</td>\n",
              "      <td>190</td>\n",
              "      <td>205</td>\n",
              "      <td>217</td>\n",
              "      <td>226</td>\n",
              "      <td>232</td>\n",
              "      <td>234</td>\n",
              "    </tr>\n",
              "  </tbody>\n",
              "</table>\n",
              "<p>5 rows × 785 columns</p>\n",
              "</div>\n",
              "      <button class=\"colab-df-convert\" onclick=\"convertToInteractive('df-115dcda1-c3c0-49a4-98a9-d40e47813009')\"\n",
              "              title=\"Convert this dataframe to an interactive table.\"\n",
              "              style=\"display:none;\">\n",
              "        \n",
              "  <svg xmlns=\"http://www.w3.org/2000/svg\" height=\"24px\"viewBox=\"0 0 24 24\"\n",
              "       width=\"24px\">\n",
              "    <path d=\"M0 0h24v24H0V0z\" fill=\"none\"/>\n",
              "    <path d=\"M18.56 5.44l.94 2.06.94-2.06 2.06-.94-2.06-.94-.94-2.06-.94 2.06-2.06.94zm-11 1L8.5 8.5l.94-2.06 2.06-.94-2.06-.94L8.5 2.5l-.94 2.06-2.06.94zm10 10l.94 2.06.94-2.06 2.06-.94-2.06-.94-.94-2.06-.94 2.06-2.06.94z\"/><path d=\"M17.41 7.96l-1.37-1.37c-.4-.4-.92-.59-1.43-.59-.52 0-1.04.2-1.43.59L10.3 9.45l-7.72 7.72c-.78.78-.78 2.05 0 2.83L4 21.41c.39.39.9.59 1.41.59.51 0 1.02-.2 1.41-.59l7.78-7.78 2.81-2.81c.8-.78.8-2.07 0-2.86zM5.41 20L4 18.59l7.72-7.72 1.47 1.35L5.41 20z\"/>\n",
              "  </svg>\n",
              "      </button>\n",
              "      \n",
              "  <style>\n",
              "    .colab-df-container {\n",
              "      display:flex;\n",
              "      flex-wrap:wrap;\n",
              "      gap: 12px;\n",
              "    }\n",
              "\n",
              "    .colab-df-convert {\n",
              "      background-color: #E8F0FE;\n",
              "      border: none;\n",
              "      border-radius: 50%;\n",
              "      cursor: pointer;\n",
              "      display: none;\n",
              "      fill: #1967D2;\n",
              "      height: 32px;\n",
              "      padding: 0 0 0 0;\n",
              "      width: 32px;\n",
              "    }\n",
              "\n",
              "    .colab-df-convert:hover {\n",
              "      background-color: #E2EBFA;\n",
              "      box-shadow: 0px 1px 2px rgba(60, 64, 67, 0.3), 0px 1px 3px 1px rgba(60, 64, 67, 0.15);\n",
              "      fill: #174EA6;\n",
              "    }\n",
              "\n",
              "    [theme=dark] .colab-df-convert {\n",
              "      background-color: #3B4455;\n",
              "      fill: #D2E3FC;\n",
              "    }\n",
              "\n",
              "    [theme=dark] .colab-df-convert:hover {\n",
              "      background-color: #434B5C;\n",
              "      box-shadow: 0px 1px 3px 1px rgba(0, 0, 0, 0.15);\n",
              "      filter: drop-shadow(0px 1px 2px rgba(0, 0, 0, 0.3));\n",
              "      fill: #FFFFFF;\n",
              "    }\n",
              "  </style>\n",
              "\n",
              "      <script>\n",
              "        const buttonEl =\n",
              "          document.querySelector('#df-115dcda1-c3c0-49a4-98a9-d40e47813009 button.colab-df-convert');\n",
              "        buttonEl.style.display =\n",
              "          google.colab.kernel.accessAllowed ? 'block' : 'none';\n",
              "\n",
              "        async function convertToInteractive(key) {\n",
              "          const element = document.querySelector('#df-115dcda1-c3c0-49a4-98a9-d40e47813009');\n",
              "          const dataTable =\n",
              "            await google.colab.kernel.invokeFunction('convertToInteractive',\n",
              "                                                     [key], {});\n",
              "          if (!dataTable) return;\n",
              "\n",
              "          const docLinkHtml = 'Like what you see? Visit the ' +\n",
              "            '<a target=\"_blank\" href=https://colab.research.google.com/notebooks/data_table.ipynb>data table notebook</a>'\n",
              "            + ' to learn more about interactive tables.';\n",
              "          element.innerHTML = '';\n",
              "          dataTable['output_type'] = 'display_data';\n",
              "          await google.colab.output.renderOutput(dataTable, element);\n",
              "          const docLink = document.createElement('div');\n",
              "          docLink.innerHTML = docLinkHtml;\n",
              "          element.appendChild(docLink);\n",
              "        }\n",
              "      </script>\n",
              "    </div>\n",
              "  </div>\n",
              "  "
            ]
          },
          "metadata": {},
          "execution_count": 110
        }
      ]
    },
    {
      "cell_type": "code",
      "source": [
        "X_Test = testing_data.drop([\"label\"],axis=1).values\n",
        "Y_Test = testing_data[\"label\"].values"
      ],
      "metadata": {
        "id": "JL2uZHoOmci5"
      },
      "execution_count": null,
      "outputs": []
    },
    {
      "cell_type": "code",
      "source": [
        "len(X_Train),len(Y_Train),len(X_Test),len(Y_Test)"
      ],
      "metadata": {
        "colab": {
          "base_uri": "https://localhost:8080/"
        },
        "id": "JpYTWZjTmSKL",
        "outputId": "bcbb0f3b-cdb5-4dce-bf0c-0748c7923940"
      },
      "execution_count": null,
      "outputs": [
        {
          "output_type": "execute_result",
          "data": {
            "text/plain": [
              "(1010, 1010, 158, 158)"
            ]
          },
          "metadata": {},
          "execution_count": 113
        }
      ]
    },
    {
      "cell_type": "code",
      "source": [
        "X_Train_scaled = X_Train.copy()\n",
        "X_Train_scaled = X_Train_scaled / 255\n",
        "\n",
        "X_Test_scaled = X_Test.copy()\n",
        "X_Test_scaled = X_Test_scaled / 255"
      ],
      "metadata": {
        "id": "dEcCJLAInV3P"
      },
      "execution_count": null,
      "outputs": []
    },
    {
      "cell_type": "code",
      "source": [
        "X_Train_scaled"
      ],
      "metadata": {
        "colab": {
          "base_uri": "https://localhost:8080/"
        },
        "id": "VVK0x7lzn5ye",
        "outputId": "156353ad-51de-4660-98cc-5486ac260430"
      },
      "execution_count": null,
      "outputs": [
        {
          "output_type": "execute_result",
          "data": {
            "text/plain": [
              "array([[0.97254902, 0.95686275, 0.91764706, ..., 0.91764706, 0.94901961,\n",
              "        0.96470588],\n",
              "       [0.94901961, 0.92941176, 0.88235294, ..., 0.70588235, 0.76078431,\n",
              "        0.79215686],\n",
              "       [0.97254902, 0.95686275, 0.93333333, ..., 0.9254902 , 0.95294118,\n",
              "        0.96470588],\n",
              "       ...,\n",
              "       [1.        , 1.        , 1.        , ..., 0.3254902 , 0.32156863,\n",
              "        0.3254902 ],\n",
              "       [1.        , 1.        , 1.        , ..., 0.29411765, 0.28627451,\n",
              "        0.28627451],\n",
              "       [0.94901961, 0.95294118, 0.96078431, ..., 0.65882353, 0.73333333,\n",
              "        0.76862745]])"
            ]
          },
          "metadata": {},
          "execution_count": 115
        }
      ]
    },
    {
      "cell_type": "code",
      "source": [
        "import tensorflow as tf\n",
        "from tensorflow import keras"
      ],
      "metadata": {
        "id": "YF8q0ettvxwI"
      },
      "execution_count": null,
      "outputs": []
    },
    {
      "cell_type": "code",
      "source": [
        "model = keras.Sequential([\n",
        "    keras.layers.Dense(100, input_shape=(784,), activation='relu'),\n",
        "    keras.layers.Dense(10, activation='sigmoid')\n",
        "])\n",
        "\n",
        "model.compile(optimizer='adam',\n",
        "              loss='sparse_categorical_crossentropy',\n",
        "              metrics=['accuracy'])\n",
        "\n",
        "model.fit(X_Train_scaled, Y_Train, epochs=6)"
      ],
      "metadata": {
        "colab": {
          "base_uri": "https://localhost:8080/"
        },
        "id": "RbEV_4WduKsK",
        "outputId": "63668b16-72e1-4c18-a5c1-8b18869e93e1"
      },
      "execution_count": null,
      "outputs": [
        {
          "output_type": "stream",
          "name": "stdout",
          "text": [
            "Epoch 1/6\n",
            "32/32 [==============================] - 1s 4ms/step - loss: 1.6243 - accuracy: 0.5277\n",
            "Epoch 2/6\n",
            "32/32 [==============================] - 0s 4ms/step - loss: 0.6829 - accuracy: 0.8426\n",
            "Epoch 3/6\n",
            "32/32 [==============================] - 0s 4ms/step - loss: 0.4488 - accuracy: 0.8911\n",
            "Epoch 4/6\n",
            "32/32 [==============================] - 0s 4ms/step - loss: 0.3448 - accuracy: 0.9069\n",
            "Epoch 5/6\n",
            "32/32 [==============================] - 0s 4ms/step - loss: 0.2744 - accuracy: 0.9277\n",
            "Epoch 6/6\n",
            "32/32 [==============================] - 0s 4ms/step - loss: 0.2312 - accuracy: 0.9406\n"
          ]
        },
        {
          "output_type": "execute_result",
          "data": {
            "text/plain": [
              "<keras.callbacks.History at 0x7f54940a5b70>"
            ]
          },
          "metadata": {},
          "execution_count": 120
        }
      ]
    },
    {
      "cell_type": "code",
      "source": [
        "model.evaluate(X_Test_scaled , Y_Test)"
      ],
      "metadata": {
        "colab": {
          "base_uri": "https://localhost:8080/"
        },
        "id": "Sw5QWJJJw81f",
        "outputId": "042387d7-e37f-4020-a37e-321148f7a9ee"
      },
      "execution_count": null,
      "outputs": [
        {
          "output_type": "stream",
          "name": "stdout",
          "text": [
            "5/5 [==============================] - 0s 3ms/step - loss: 0.3723 - accuracy: 0.8671\n"
          ]
        },
        {
          "output_type": "execute_result",
          "data": {
            "text/plain": [
              "[0.37231096625328064, 0.8670886158943176]"
            ]
          },
          "metadata": {},
          "execution_count": 126
        }
      ]
    },
    {
      "cell_type": "markdown",
      "source": [
        "#Below code is for manual checking purpose by using random number."
      ],
      "metadata": {
        "id": "Lk1ij37u6-n4"
      }
    },
    {
      "cell_type": "code",
      "source": [
        "import random\n",
        "random_int = random.randint(0, 158)\n",
        "\n",
        "arr = np.array(model.predict(X_Test_scaled[[random_int]]))\n",
        "max_index = np.argmax(arr)\n",
        "print(\"The Predicted number is: \" + str(max_index))\n",
        "print(\"The Actual number is: \" + str(Y_Test[random_int]))\n",
        "print(\"The test image is: \")\n",
        "X_2d = X_Test[random_int].reshape(28,28)\n",
        "plt.matshow(X_2d)"
      ],
      "metadata": {
        "colab": {
          "base_uri": "https://localhost:8080/",
          "height": 524
        },
        "id": "1x8wgLzQxNsj",
        "outputId": "e2485614-b8f2-4c4b-8d02-050dcfc22b14"
      },
      "execution_count": null,
      "outputs": [
        {
          "output_type": "stream",
          "name": "stdout",
          "text": [
            "1/1 [==============================] - 0s 19ms/step\n",
            "The Predicted number is: 8\n",
            "The Actual number is: 8\n",
            "The test image is: \n"
          ]
        },
        {
          "output_type": "execute_result",
          "data": {
            "text/plain": [
              "<matplotlib.image.AxesImage at 0x7f548d6cb100>"
            ]
          },
          "metadata": {},
          "execution_count": 124
        },
        {
          "output_type": "display_data",
          "data": {
            "text/plain": [
              "<Figure size 480x480 with 1 Axes>"
            ],
            "image/png": "[encoded data removed]"
          },
          "metadata": {}
        }
      ]
    }
  ]
}